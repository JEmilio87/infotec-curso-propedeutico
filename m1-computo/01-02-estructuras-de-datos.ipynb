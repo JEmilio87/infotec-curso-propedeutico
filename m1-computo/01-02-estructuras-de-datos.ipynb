{
 "cells": [
  {
   "cell_type": "code",
   "execution_count": 3,
   "metadata": {},
   "outputs": [
    {
     "data": {
      "text/plain": [
       "'\\nMódulo 1 - Ciencias de la computación\\nTemario: Análisis de algoritmos y estructuras de datos básicas\\n    1. Listas, pilas, colas, arreglos, diccionarios, colas de prioridad\\n    2. Árboles y gráfos \\n'"
      ]
     },
     "execution_count": 3,
     "metadata": {},
     "output_type": "execute_result"
    }
   ],
   "source": [
    "\"\"\"\n",
    "Módulo 1 - Ciencias de la computación\n",
    "Temario: Análisis de algoritmos y estructuras de datos básicas\n",
    "    1. Clases \n",
    "    2. Listas, pilas, colas, arreglos, diccionarios, colas de prioridad\n",
    "    3. Árboles y gráfos \n",
    "\"\"\""
   ]
  },
  {
   "cell_type": "code",
   "execution_count": 8,
   "metadata": {},
   "outputs": [
    {
     "name": "stdout",
     "output_type": "stream",
     "text": [
      "Hola, mi nombre es Juan y tengo 25 años\n"
     ]
    }
   ],
   "source": [
    "# 1. Clases\n",
    "\n",
    "# Clase: estructura que permite agrupar datos y funciones que operan sobre esos datos\n",
    "# Objetos: instancias de una clase\n",
    "# Atributos: variables que pertenecen a un objeto\n",
    "# Métodos: funciones que pertenecen a un objeto\n",
    "\n",
    "# Ejemplo de clase\n",
    "\n",
    "class Persona:\n",
    "    def __init__(self, nombre, edad):\n",
    "        self.nombre = nombre\n",
    "        self.edad = edad\n",
    "\n",
    "    def saludar(self):\n",
    "        print(f'Hola, mi nombre es {self.nombre} y tengo {self.edad} años')\n",
    "\n",
    "# Crear un objeto de la clase Persona\n",
    "persona1 = Persona('Juan', 25)\n",
    "persona1.saludar()"
   ]
  },
  {
   "cell_type": "code",
   "execution_count": 4,
   "metadata": {},
   "outputs": [
    {
     "name": "stdout",
     "output_type": "stream",
     "text": [
      "3\n",
      "2\n",
      "False\n"
     ]
    }
   ],
   "source": [
    "# Ejemplo de pila\n",
    "\n",
    "class Stack:\n",
    "    def __init__(self):\n",
    "        self.stack = []\n",
    "    \n",
    "    def push(self, element):\n",
    "        self.stack.append(element)\n",
    "    \n",
    "    def pop(self):\n",
    "        if len(self.stack) > 0:\n",
    "            return self.stack.pop()\n",
    "        else:\n",
    "            return None\n",
    "    \n",
    "    def peek(self):\n",
    "        if len(self.stack) > 0:\n",
    "            return self.stack[-1]\n",
    "        else:\n",
    "            return None\n",
    "    \n",
    "    def is_empty(self):\n",
    "        return len(self.stack) == 0\n",
    "    \n",
    "# Ejemplo de uso\n",
    "stack = Stack()\n",
    "stack.push(1)\n",
    "stack.push(2)\n",
    "stack.push(3)\n",
    "print(stack.pop())\n",
    "print(stack.peek())\n",
    "print(stack.is_empty())"
   ]
  },
  {
   "cell_type": "code",
   "execution_count": 6,
   "metadata": {},
   "outputs": [
    {
     "name": "stdout",
     "output_type": "stream",
     "text": [
      "1\n",
      "2\n",
      "False\n"
     ]
    }
   ],
   "source": [
    "# Ejemplo de cola\n",
    "\n",
    "class Queue:\n",
    "    def __init__(self):\n",
    "        self.queue = []\n",
    "    \n",
    "    def enqueue(self, element):\n",
    "        self.queue.append(element)\n",
    "    \n",
    "    def dequeue(self):\n",
    "        if len(self.queue) > 0:\n",
    "            return self.queue.pop(0)\n",
    "        else:\n",
    "            return None\n",
    "    \n",
    "    def peek(self):\n",
    "        if len(self.queue) > 0:\n",
    "            return self.queue[0]\n",
    "        else:\n",
    "            return None\n",
    "    \n",
    "    def is_empty(self):\n",
    "        return len(self.queue) == 0\n",
    "    \n",
    "# Ejemplo de uso\n",
    "\n",
    "queue = Queue()\n",
    "queue.enqueue(1)\n",
    "queue.enqueue(2)\n",
    "queue.enqueue(3)\n",
    "print(queue.dequeue())\n",
    "print(queue.peek())\n",
    "print(queue.is_empty())"
   ]
  },
  {
   "cell_type": "code",
   "execution_count": 7,
   "metadata": {},
   "outputs": [
    {
     "name": "stdout",
     "output_type": "stream",
     "text": [
      "('x', 1)\n",
      "('z', 2)\n",
      "False\n"
     ]
    }
   ],
   "source": [
    "# Ejemplo de cola de prioridad\n",
    "\n",
    "class PriorityQueue:\n",
    "    def __init__(self):\n",
    "        self.queue = []\n",
    "    \n",
    "    def enqueue(self, element, priority):\n",
    "        self.queue.append((element, priority))\n",
    "        self.queue.sort(key=lambda x: x[1])\n",
    "    \n",
    "    def dequeue(self):\n",
    "        if len(self.queue) > 0:\n",
    "            return self.queue.pop(0)\n",
    "        else:\n",
    "            return None\n",
    "    \n",
    "    def peek(self):\n",
    "        if len(self.queue) > 0:\n",
    "            return self.queue[0]\n",
    "        else:\n",
    "            return None\n",
    "    \n",
    "    def is_empty(self):\n",
    "        return len(self.queue) == 0\n",
    "    \n",
    "# Ejemplo de uso\n",
    "\n",
    "priority_queue = PriorityQueue()\n",
    "priority_queue.enqueue(\"x\", 1)\n",
    "priority_queue.enqueue(\"y\", 3)\n",
    "priority_queue.enqueue(\"z\", 2)\n",
    "\n",
    "print(priority_queue.dequeue())\n",
    "print(priority_queue.peek())\n",
    "print(priority_queue.is_empty())"
   ]
  },
  {
   "cell_type": "code",
   "execution_count": 9,
   "metadata": {},
   "outputs": [
    {
     "name": "stdout",
     "output_type": "stream",
     "text": [
      "True\n",
      "False\n"
     ]
    }
   ],
   "source": [
    "# Árboles binarios de búsqueda\n",
    "\n",
    "class Node:\n",
    "    def __init__(self, value):\n",
    "        self.value = value\n",
    "        self.left = None\n",
    "        self.right = None\n",
    "\n",
    "class BinarySearchTree:\n",
    "    def __init__(self):\n",
    "        self.root = None\n",
    "    \n",
    "    def insert(self, value):\n",
    "        if self.root is None:\n",
    "            self.root = Node(value)\n",
    "        else:\n",
    "            self._insert(self.root, value)\n",
    "    \n",
    "    def _insert(self, current_node, value):\n",
    "        if value < current_node.value:\n",
    "            if current_node.left is None:\n",
    "                current_node.left = Node(value)\n",
    "            else:\n",
    "                self._insert(current_node.left, value)\n",
    "        elif value > current_node.value:\n",
    "            if current_node.right is None:\n",
    "                current_node.right = Node(value)\n",
    "            else:\n",
    "                self._insert(current_node.right, value)\n",
    "    \n",
    "    def search(self, value):\n",
    "        return self._search(self.root, value)\n",
    "    \n",
    "    def _search(self, current_node, value):\n",
    "        if current_node is None:\n",
    "            return False\n",
    "        if current_node.value == value:\n",
    "            return True\n",
    "        if value < current_node.value:\n",
    "            return self._search(current_node.left, value)\n",
    "        else:\n",
    "            return self._search(current_node.right, value)\n",
    "        \n",
    "# Ejemplo de uso\n",
    "\n",
    "bst = BinarySearchTree()\n",
    "bst.insert(5)\n",
    "bst.insert(3)\n",
    "bst.insert(7)\n",
    "print(bst.search(3))\n",
    "print(bst.search(8))"
   ]
  },
  {
   "cell_type": "code",
   "execution_count": 10,
   "metadata": {},
   "outputs": [
    {
     "name": "stdout",
     "output_type": "stream",
     "text": [
      "A --> ['B', 'C']\n",
      "B --> ['A', 'D']\n",
      "C --> ['A']\n",
      "D --> ['B']\n"
     ]
    }
   ],
   "source": [
    "# Grafos\n",
    "\n",
    "class Graph:\n",
    "    def __init__(self):\n",
    "        self.graph = {}\n",
    "    \n",
    "    def add_vertex(self, vertex):\n",
    "        if vertex not in self.graph:\n",
    "            self.graph[vertex] = []\n",
    "    \n",
    "    def add_edge(self, vertex1, vertex2):\n",
    "        if vertex1 in self.graph and vertex2 in self.graph:\n",
    "            self.graph[vertex1].append(vertex2)\n",
    "            self.graph[vertex2].append(vertex1)\n",
    "    \n",
    "    def show_connections(self):\n",
    "        for vertex in self.graph:\n",
    "            print(f'{vertex} --> {self.graph[vertex]}')\n",
    "\n",
    "# Ejemplo de uso\n",
    "\n",
    "graph = Graph()\n",
    "graph.add_vertex('A')\n",
    "graph.add_vertex('B')\n",
    "graph.add_vertex('C')\n",
    "graph.add_vertex('D')\n",
    "graph.add_edge('A', 'B')\n",
    "graph.add_edge('A', 'C')\n",
    "graph.add_edge('B', 'D')\n",
    "graph.show_connections()"
   ]
  },
  {
   "cell_type": "code",
   "execution_count": null,
   "metadata": {},
   "outputs": [],
   "source": []
  }
 ],
 "metadata": {
  "kernelspec": {
   "display_name": "scientific_computing",
   "language": "python",
   "name": "python3"
  },
  "language_info": {
   "codemirror_mode": {
    "name": "ipython",
    "version": 3
   },
   "file_extension": ".py",
   "mimetype": "text/x-python",
   "name": "python",
   "nbconvert_exporter": "python",
   "pygments_lexer": "ipython3",
   "version": "3.11.5"
  }
 },
 "nbformat": 4,
 "nbformat_minor": 2
}
