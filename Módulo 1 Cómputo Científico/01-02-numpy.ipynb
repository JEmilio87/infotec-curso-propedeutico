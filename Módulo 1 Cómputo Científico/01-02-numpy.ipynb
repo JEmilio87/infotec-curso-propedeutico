{
 "cells": [
  {
   "cell_type": "code",
   "execution_count": 1,
   "metadata": {},
   "outputs": [],
   "source": [
    "# Numpy \n",
    "\n",
    "# Numpy es una librería de Python que se utiliza para trabajar con arreglos multidimensionales.\n",
    "# Se utiliza para realizar operaciones matemáticas y lógicas con estos arreglos.\n",
    "# Numpy es un acrónimo de \"Numerical Python\".\n",
    "\n",
    "# Instalación de Numpy\n",
    "# Para instalar Numpy, se utiliza el siguiente comando:\n",
    "# pip install numpy\n",
    "\n",
    "# Importar Numpy\n",
    "# Para utilizar Numpy, se debe importar la librería:\n",
    "import numpy as np"
   ]
  },
  {
   "cell_type": "code",
   "execution_count": 2,
   "metadata": {},
   "outputs": [
    {
     "name": "stdout",
     "output_type": "stream",
     "text": [
      "[1 2 3 4 5]\n"
     ]
    }
   ],
   "source": [
    "# Crear un arreglo de Numpy\n",
    "# Para crear un arreglo de Numpy, se utiliza la función array().\n",
    "# El siguiente ejemplo crea un arreglo de Numpy con 5 elementos:\n",
    "arr = np.array([1, 2, 3, 4, 5])\n",
    "print(arr)"
   ]
  },
  {
   "cell_type": "code",
   "execution_count": 6,
   "metadata": {},
   "outputs": [
    {
     "name": "stdout",
     "output_type": "stream",
     "text": [
      "<class 'numpy.float64'>\n"
     ]
    }
   ],
   "source": [
    "# Tipo de datos\n",
    "# Numpy almacena los elementos de un arreglo en un tipo de datos específico.\n",
    "# Se puede especificar el tipo de datos al crear un arreglo.\n",
    "# El siguiente ejemplo crea un arreglo de Numpy con el tipo de datos string:\n",
    "arr = np.array([1, 2, 3, 4, 5], dtype='float')\n",
    "print(type(arr[0]))"
   ]
  },
  {
   "cell_type": "code",
   "execution_count": 8,
   "metadata": {},
   "outputs": [
    {
     "name": "stdout",
     "output_type": "stream",
     "text": [
      "42\n"
     ]
    }
   ],
   "source": [
    "# Dimensiones de un arreglo\n",
    "# Un arreglo de Numpy puede tener una o más dimensiones.\n",
    "# Se puede especificar el número de dimensiones al crear un arreglo.\n",
    "# Crear un arreglo de Numpy con 0 dimensiones\n",
    "# Un arreglo de Numpy con 0 dimensiones se llama escalar.\n",
    "# El siguiente ejemplo crea un arreglo de Numpy con 0 dimensiones:\n",
    "arr = np.array(42)\n",
    "print(arr)"
   ]
  },
  {
   "cell_type": "code",
   "execution_count": 9,
   "metadata": {},
   "outputs": [
    {
     "name": "stdout",
     "output_type": "stream",
     "text": [
      "[1 2 3 4 5]\n"
     ]
    }
   ],
   "source": [
    "# Crear un arreglo de Numpy con 1 dimensión\n",
    "# Un arreglo de Numpy con 1 dimensión se llama vector.\n",
    "# El siguiente ejemplo crea un arreglo de Numpy con 1 dimensión:\n",
    "arr = np.array([1, 2, 3, 4, 5])\n",
    "print(arr)"
   ]
  },
  {
   "cell_type": "code",
   "execution_count": 10,
   "metadata": {},
   "outputs": [
    {
     "name": "stdout",
     "output_type": "stream",
     "text": [
      "[[1 2 3]\n",
      " [4 5 6]]\n"
     ]
    }
   ],
   "source": [
    "# Crear un arreglo de Numpy con 2 dimensiones\n",
    "# Un arreglo de Numpy con 2 dimensiones se llama matriz.\n",
    "# El siguiente ejemplo crea un arreglo de Numpy con 2 dimensiones:\n",
    "arr = np.array([[1, 2, 3], [4, 5, 6]])\n",
    "print(arr)"
   ]
  },
  {
   "cell_type": "code",
   "execution_count": 11,
   "metadata": {},
   "outputs": [
    {
     "name": "stdout",
     "output_type": "stream",
     "text": [
      "1\n"
     ]
    }
   ],
   "source": [
    "## Acceso a elementos de un arreglo\n",
    "# Se puede acceder a los elementos de un arreglo de Numpy utilizando índices.\n",
    "# El siguiente ejemplo accede al primer elemento de un arreglo de Numpy:\n",
    "arr = np.array([1, 2, 3, 4, 5])\n",
    "print(arr[0])"
   ]
  },
  {
   "cell_type": "code",
   "execution_count": 12,
   "metadata": {},
   "outputs": [
    {
     "name": "stdout",
     "output_type": "stream",
     "text": [
      "6\n"
     ]
    }
   ],
   "source": [
    "# Acceder a elementos de un arreglo de Numpy con 2 dimensiones\n",
    "# Se puede acceder a los elementos de un arreglo de Numpy con 2 dimensiones utilizando índices.\n",
    "# El siguiente ejemplo accede al elemento en la segunda fila y la tercera columna de un arreglo de Numpy con 2 dimensiones:\n",
    "arr = np.array([[1, 2, 3], [4, 5, 6]])\n",
    "print(arr[1, 2])"
   ]
  },
  {
   "cell_type": "code",
   "execution_count": 13,
   "metadata": {},
   "outputs": [
    {
     "name": "stdout",
     "output_type": "stream",
     "text": [
      "12\n"
     ]
    }
   ],
   "source": [
    "# Acceder a elementos de un arreglo de Numpy con 3 dimensiones\n",
    "# Se puede acceder a los elementos de un arreglo de Numpy con 3 dimensiones utilizando índices.\n",
    "# El siguiente ejemplo accede al elemento en la segunda dimensión, la segunda fila y la tercera columna de un arreglo de Numpy con 3 dimensiones:\n",
    "arr = np.array([[[1, 2, 3], [4, 5, 6]], [[7, 8, 9], [10, 11, 12]]])\n",
    "print(arr[1, 1, 2])"
   ]
  },
  {
   "cell_type": "code",
   "execution_count": 14,
   "metadata": {},
   "outputs": [
    {
     "name": "stdout",
     "output_type": "stream",
     "text": [
      "[2 3 4]\n"
     ]
    }
   ],
   "source": [
    "# Slice de un arreglo\n",
    "# Se puede acceder a un rango de elementos de un arreglo de Numpy utilizando slice.\n",
    "# El siguiente ejemplo accede a los elementos del segundo al cuarto elemento de un arreglo de Numpy:\n",
    "arr = np.array([1, 2, 3, 4, 5])\n",
    "print(arr[1:4])"
   ]
  },
  {
   "cell_type": "code",
   "execution_count": 15,
   "metadata": {},
   "outputs": [
    {
     "name": "stdout",
     "output_type": "stream",
     "text": [
      "[4 5]\n"
     ]
    }
   ],
   "source": [
    "# Slice de un arreglo de Numpy con 2 dimensiones\n",
    "# Se puede acceder a un rango de elementos de un arreglo de Numpy con 2 dimensiones utilizando slice.\n",
    "# El siguiente ejemplo accede a los elementos de la segunda fila del primer elemento al segundo elemento de un arreglo de Numpy con 2 dimensiones:\n",
    "arr = np.array([[1, 2, 3], [4, 5, 6]])\n",
    "print(arr[1, 0:2])\n"
   ]
  },
  {
   "cell_type": "code",
   "execution_count": 16,
   "metadata": {},
   "outputs": [
    {
     "name": "stdout",
     "output_type": "stream",
     "text": [
      "[10 11]\n"
     ]
    }
   ],
   "source": [
    "# Slice de un arreglo de Numpy con 3 dimensiones\n",
    "# Se puede acceder a un rango de elementos de un arreglo de Numpy con 3 dimensiones utilizando slice.\n",
    "# El siguiente ejemplo accede a los elementos de la segunda dimensión, la segunda fila del primer elemento al segundo elemento de un arreglo de Numpy con 3 dimensiones:\n",
    "arr = np.array([[[1, 2, 3], [4, 5, 6]], [[7, 8, 9], [10, 11, 12]]])\n",
    "print(arr[1, 1, 0:2])\n"
   ]
  },
  {
   "cell_type": "code",
   "execution_count": null,
   "metadata": {},
   "outputs": [],
   "source": []
  }
 ],
 "metadata": {
  "kernelspec": {
   "display_name": "machine_learning",
   "language": "python",
   "name": "python3"
  },
  "language_info": {
   "codemirror_mode": {
    "name": "ipython",
    "version": 3
   },
   "file_extension": ".py",
   "mimetype": "text/x-python",
   "name": "python",
   "nbconvert_exporter": "python",
   "pygments_lexer": "ipython3",
   "version": "3.11.5"
  }
 },
 "nbformat": 4,
 "nbformat_minor": 2
}
