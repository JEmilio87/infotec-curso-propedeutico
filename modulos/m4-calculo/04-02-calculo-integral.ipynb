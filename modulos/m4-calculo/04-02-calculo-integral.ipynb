{
 "cells": [
  {
   "cell_type": "code",
   "execution_count": 3,
   "metadata": {},
   "outputs": [
    {
     "data": {
      "text/plain": [
       "'\\nCalculo Integral\\n    - Ejemplos con Sympy\\n    - Fracciones parciales con Sympy\\n    - Ejemplos con Scipy\\n'"
      ]
     },
     "execution_count": 3,
     "metadata": {},
     "output_type": "execute_result"
    }
   ],
   "source": [
    "\"\"\"\n",
    "Calculo Integral\n",
    "    - Ejemplos con Sympy\n",
    "    - Fracciones parciales con Sympy\n",
    "    - Ejemplos con Scipy\n",
    "\"\"\""
   ]
  },
  {
   "cell_type": "code",
   "execution_count": 4,
   "metadata": {},
   "outputs": [
    {
     "name": "stdout",
     "output_type": "stream",
     "text": [
      "3*x\n",
      "x**2/2\n",
      "x**3/3\n",
      "-cos(x)\n",
      "exp(x)\n",
      "x*log(x) - x\n",
      "2*x**(3/2)/3\n"
     ]
    }
   ],
   "source": [
    "# Ejemplos con Sympy\n",
    "# Integrales indefinidas\n",
    "\n",
    "from sympy import Symbol, integrate, sin, cos, exp, log, sqrt, pi, oo\n",
    "\n",
    "x = Symbol('x')\n",
    "\n",
    "# Integral de una constante\n",
    "print(integrate(3, x))\n",
    "\n",
    "# Integral de una variable\n",
    "print(integrate(x, x))\n",
    "\n",
    "# Integral de una potencia\n",
    "print(integrate(x**2, x))\n",
    "\n",
    "# Integral de una función trigonométrica\n",
    "print(integrate(sin(x), x))\n",
    "\n",
    "# Integral de una función exponencial\n",
    "print(integrate(exp(x), x))\n",
    "\n",
    "# Integral de una función logarítmica\n",
    "print(integrate(log(x), x))\n",
    "\n",
    "# Integral de una función raíz cuadrada\n",
    "print(integrate(sqrt(x), x))\n"
   ]
  },
  {
   "cell_type": "code",
   "execution_count": 6,
   "metadata": {},
   "outputs": [
    {
     "name": "stdout",
     "output_type": "stream",
     "text": [
      "3\n",
      "1/2\n",
      "1/3\n",
      "2\n",
      "-1 + E\n"
     ]
    }
   ],
   "source": [
    "# Integrales definidas\n",
    "\n",
    "# Integral de una constante\n",
    "print(integrate(3, (x, 0, 1)))\n",
    "\n",
    "# Integral de una variable\n",
    "print(integrate(x, (x, 0, 1)))\n",
    "\n",
    "# Integral de una potencia\n",
    "print(integrate(x**2, (x, 0, 1)))\n",
    "\n",
    "# Integral de una función trigonométrica\n",
    "print(integrate(sin(x), (x, 0, pi)))\n",
    "\n",
    "# Integral de una función exponencial\n",
    "print(integrate(exp(x), (x, 0, 1)))"
   ]
  },
  {
   "cell_type": "code",
   "execution_count": 7,
   "metadata": {},
   "outputs": [
    {
     "name": "stdout",
     "output_type": "stream",
     "text": [
      "sqrt(pi)\n"
     ]
    }
   ],
   "source": [
    "# Integrales con límites infinitos\n",
    "\n",
    "# Densidad de probabilidad de una distribución normal\n",
    "print(integrate(exp(-x**2), (x, -oo, oo)))"
   ]
  },
  {
   "cell_type": "code",
   "execution_count": 9,
   "metadata": {},
   "outputs": [
    {
     "name": "stdout",
     "output_type": "stream",
     "text": [
      "-1/(x + 2) + 1/(x + 1)\n",
      "1/(x + 1)\n"
     ]
    }
   ],
   "source": [
    "# Cálculo de fracciones parciales con Sympy\n",
    "\n",
    "from sympy import apart\n",
    "from sympy.abc import x\n",
    "\n",
    "# Fracciones parciales\n",
    "print(apart(1/(x**2 + 3*x + 2)))\n"
   ]
  },
  {
   "cell_type": "code",
   "execution_count": 10,
   "metadata": {},
   "outputs": [
    {
     "name": "stdout",
     "output_type": "stream",
     "text": [
      "(2.0, 2.220446049250313e-14)\n",
      "(1.7182818284590453, 1.9076760487502457e-14)\n",
      "(0.6666666666666669, 7.401486830834379e-16)\n"
     ]
    }
   ],
   "source": [
    "# Cálculo de integrales con Scipy\n",
    "\n",
    "from scipy.integrate import quad\n",
    "from numpy import sin, exp, sqrt\n",
    "\n",
    "# Integral de una función trigonométrica\n",
    "print(quad(sin, 0, pi))\n",
    "\n",
    "# Integral de una función exponencial\n",
    "print(quad(exp, 0, 1))\n",
    "\n",
    "# Integral de una función raíz cuadrada\n",
    "print(quad(sqrt, 0, 1))"
   ]
  },
  {
   "cell_type": "code",
   "execution_count": null,
   "metadata": {},
   "outputs": [],
   "source": []
  }
 ],
 "metadata": {
  "kernelspec": {
   "display_name": "scientific_computing",
   "language": "python",
   "name": "python3"
  },
  "language_info": {
   "codemirror_mode": {
    "name": "ipython",
    "version": 3
   },
   "file_extension": ".py",
   "mimetype": "text/x-python",
   "name": "python",
   "nbconvert_exporter": "python",
   "pygments_lexer": "ipython3",
   "version": "3.11.5"
  }
 },
 "nbformat": 4,
 "nbformat_minor": 2
}
